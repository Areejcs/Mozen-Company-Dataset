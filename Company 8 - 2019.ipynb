{
 "cells": [
  {
   "cell_type": "markdown",
   "metadata": {},
   "source": [
    "### What we are going to analyze ? \n"
   ]
  },
  {
   "cell_type": "markdown",
   "metadata": {},
   "source": [
    "#### We aim to analayze Mozen Company Sales, their attitude of buying.\n",
    "\n",
    "- Top Item : Mzn Whipped Soap Scrub Pink Musk 250G\n",
    "- Best month that has sales is May because June and July are merge toghter.\n",
    "\n"
   ]
  },
  {
   "cell_type": "code",
   "execution_count": 27,
   "metadata": {},
   "outputs": [
    {
     "name": "stdout",
     "output_type": "stream",
     "text": [
      "(54, 12)\n"
     ]
    }
   ],
   "source": [
    "import pandas as pd\n",
    "import numpy as np\n",
    "import seaborn as sns \n",
    "import matplotlib.pyplot as plt\n",
    "data = pd.read_excel('Comp8 Sales data 2019.xlsx');\n",
    "print(data.shape) # Show me data Rows and Columns "
   ]
  },
  {
   "cell_type": "markdown",
   "metadata": {},
   "source": [
    "#### We have 54 cols, 12 rows"
   ]
  },
  {
   "cell_type": "code",
   "execution_count": 28,
   "metadata": {},
   "outputs": [
    {
     "data": {
      "text/html": [
       "<div>\n",
       "<style scoped>\n",
       "    .dataframe tbody tr th:only-of-type {\n",
       "        vertical-align: middle;\n",
       "    }\n",
       "\n",
       "    .dataframe tbody tr th {\n",
       "        vertical-align: top;\n",
       "    }\n",
       "\n",
       "    .dataframe thead th {\n",
       "        text-align: right;\n",
       "    }\n",
       "</style>\n",
       "<table border=\"1\" class=\"dataframe\">\n",
       "  <thead>\n",
       "    <tr style=\"text-align: right;\">\n",
       "      <th></th>\n",
       "      <th>Unnamed: 0</th>\n",
       "      <th>2018-01-01 00:00:00</th>\n",
       "      <th>Feb</th>\n",
       "      <th>March</th>\n",
       "      <th>April</th>\n",
       "      <th>May</th>\n",
       "      <th>June and July</th>\n",
       "      <th>August</th>\n",
       "      <th>September</th>\n",
       "      <th>OCT</th>\n",
       "      <th>Nov</th>\n",
       "      <th>DECEMBER</th>\n",
       "    </tr>\n",
       "  </thead>\n",
       "  <tbody>\n",
       "    <tr>\n",
       "      <td>0</td>\n",
       "      <td>Description</td>\n",
       "      <td>INV</td>\n",
       "      <td>INV</td>\n",
       "      <td>INV</td>\n",
       "      <td>INV</td>\n",
       "      <td>INV</td>\n",
       "      <td>INV</td>\n",
       "      <td>INV</td>\n",
       "      <td>INV</td>\n",
       "      <td>INV</td>\n",
       "      <td>INV</td>\n",
       "      <td>INV</td>\n",
       "    </tr>\n",
       "    <tr>\n",
       "      <td>1</td>\n",
       "      <td>Mzn Body Butter Lavender 75G</td>\n",
       "      <td>NaN</td>\n",
       "      <td>NaN</td>\n",
       "      <td>NaN</td>\n",
       "      <td>NaN</td>\n",
       "      <td>NaN</td>\n",
       "      <td>NaN</td>\n",
       "      <td>NaN</td>\n",
       "      <td>NaN</td>\n",
       "      <td>NaN</td>\n",
       "      <td>NaN</td>\n",
       "      <td>NaN</td>\n",
       "    </tr>\n",
       "    <tr>\n",
       "      <td>2</td>\n",
       "      <td>Mzn Body Butter Pink Musk 75G</td>\n",
       "      <td>NaN</td>\n",
       "      <td>NaN</td>\n",
       "      <td>NaN</td>\n",
       "      <td>NaN</td>\n",
       "      <td>NaN</td>\n",
       "      <td>NaN</td>\n",
       "      <td>NaN</td>\n",
       "      <td>NaN</td>\n",
       "      <td>NaN</td>\n",
       "      <td>NaN</td>\n",
       "      <td>NaN</td>\n",
       "    </tr>\n",
       "    <tr>\n",
       "      <td>3</td>\n",
       "      <td>Mzn Body Butter Baby Powder 75G</td>\n",
       "      <td>NaN</td>\n",
       "      <td>NaN</td>\n",
       "      <td>NaN</td>\n",
       "      <td>NaN</td>\n",
       "      <td>NaN</td>\n",
       "      <td>NaN</td>\n",
       "      <td>NaN</td>\n",
       "      <td>NaN</td>\n",
       "      <td>NaN</td>\n",
       "      <td>NaN</td>\n",
       "      <td>NaN</td>\n",
       "    </tr>\n",
       "    <tr>\n",
       "      <td>4</td>\n",
       "      <td>Mzn Body Butter vanilla musk 75G</td>\n",
       "      <td>NaN</td>\n",
       "      <td>NaN</td>\n",
       "      <td>NaN</td>\n",
       "      <td>NaN</td>\n",
       "      <td>NaN</td>\n",
       "      <td>NaN</td>\n",
       "      <td>NaN</td>\n",
       "      <td>NaN</td>\n",
       "      <td>NaN</td>\n",
       "      <td>NaN</td>\n",
       "      <td>NaN</td>\n",
       "    </tr>\n",
       "  </tbody>\n",
       "</table>\n",
       "</div>"
      ],
      "text/plain": [
       "                         Unnamed: 0 2018-01-01 00:00:00  Feb March  April   \\\n",
       "0                       Description                 INV  INV    INV    INV   \n",
       "1      Mzn Body Butter Lavender 75G                 NaN  NaN    NaN    NaN   \n",
       "2     Mzn Body Butter Pink Musk 75G                 NaN  NaN    NaN    NaN   \n",
       "3   Mzn Body Butter Baby Powder 75G                 NaN  NaN    NaN    NaN   \n",
       "4  Mzn Body Butter vanilla musk 75G                 NaN  NaN    NaN    NaN   \n",
       "\n",
       "   May June and July August  September   OCT Nov  DECEMBER  \n",
       "0  INV           INV     INV        INV  INV  INV      INV  \n",
       "1  NaN           NaN     NaN        NaN  NaN  NaN      NaN  \n",
       "2  NaN           NaN     NaN        NaN  NaN  NaN      NaN  \n",
       "3  NaN           NaN     NaN        NaN  NaN  NaN      NaN  \n",
       "4  NaN           NaN     NaN        NaN  NaN  NaN      NaN  "
      ]
     },
     "execution_count": 28,
     "metadata": {},
     "output_type": "execute_result"
    }
   ],
   "source": [
    "data.head() # print (by defult cases) 5 values and we can select what we need or how much values"
   ]
  },
  {
   "cell_type": "markdown",
   "metadata": {},
   "source": [
    "There are lots of null data. "
   ]
  },
  {
   "cell_type": "code",
   "execution_count": 35,
   "metadata": {},
   "outputs": [
    {
     "name": "stdout",
     "output_type": "stream",
     "text": [
      "<class 'pandas.core.frame.DataFrame'>\n",
      "RangeIndex: 54 entries, 0 to 53\n",
      "Data columns (total 12 columns):\n",
      "Unnamed: 0             54 non-null object\n",
      "2018-01-01 00:00:00    4 non-null object\n",
      "Feb                    4 non-null object\n",
      "March                  4 non-null object\n",
      "April                  13 non-null object\n",
      "May                    24 non-null object\n",
      "June and July          30 non-null object\n",
      "August                 4 non-null object\n",
      "September              4 non-null object\n",
      "OCT                    4 non-null object\n",
      "Nov                    4 non-null object\n",
      "DECEMBER               4 non-null object\n",
      "dtypes: object(12)\n",
      "memory usage: 5.2+ KB\n"
     ]
    }
   ],
   "source": [
    "data.info()"
   ]
  },
  {
   "cell_type": "markdown",
   "metadata": {},
   "source": [
    "### April, May, June and July are having the values. others months are null so we'll remove them. (In cleaning procees) "
   ]
  },
  {
   "cell_type": "code",
   "execution_count": 30,
   "metadata": {},
   "outputs": [
    {
     "data": {
      "text/html": [
       "<div>\n",
       "<style scoped>\n",
       "    .dataframe tbody tr th:only-of-type {\n",
       "        vertical-align: middle;\n",
       "    }\n",
       "\n",
       "    .dataframe tbody tr th {\n",
       "        vertical-align: top;\n",
       "    }\n",
       "\n",
       "    .dataframe thead th {\n",
       "        text-align: right;\n",
       "    }\n",
       "</style>\n",
       "<table border=\"1\" class=\"dataframe\">\n",
       "  <thead>\n",
       "    <tr style=\"text-align: right;\">\n",
       "      <th></th>\n",
       "      <th>Unnamed: 0</th>\n",
       "      <th>2018-01-01 00:00:00</th>\n",
       "      <th>Feb</th>\n",
       "      <th>March</th>\n",
       "      <th>April</th>\n",
       "      <th>May</th>\n",
       "      <th>June and July</th>\n",
       "      <th>August</th>\n",
       "      <th>September</th>\n",
       "      <th>OCT</th>\n",
       "      <th>Nov</th>\n",
       "      <th>DECEMBER</th>\n",
       "    </tr>\n",
       "  </thead>\n",
       "  <tbody>\n",
       "    <tr>\n",
       "      <td>count</td>\n",
       "      <td>54</td>\n",
       "      <td>4</td>\n",
       "      <td>4</td>\n",
       "      <td>4</td>\n",
       "      <td>13</td>\n",
       "      <td>24</td>\n",
       "      <td>30</td>\n",
       "      <td>4</td>\n",
       "      <td>4</td>\n",
       "      <td>4</td>\n",
       "      <td>4</td>\n",
       "      <td>4</td>\n",
       "    </tr>\n",
       "    <tr>\n",
       "      <td>unique</td>\n",
       "      <td>54</td>\n",
       "      <td>2</td>\n",
       "      <td>2</td>\n",
       "      <td>2</td>\n",
       "      <td>11</td>\n",
       "      <td>20</td>\n",
       "      <td>24</td>\n",
       "      <td>2</td>\n",
       "      <td>2</td>\n",
       "      <td>2</td>\n",
       "      <td>2</td>\n",
       "      <td>2</td>\n",
       "    </tr>\n",
       "    <tr>\n",
       "      <td>top</td>\n",
       "      <td>Mzn Whipped Soap Scrub Pink Musk 250G</td>\n",
       "      <td>0</td>\n",
       "      <td>0</td>\n",
       "      <td>0</td>\n",
       "      <td>1</td>\n",
       "      <td>1</td>\n",
       "      <td>11</td>\n",
       "      <td>0</td>\n",
       "      <td>0</td>\n",
       "      <td>0</td>\n",
       "      <td>0</td>\n",
       "      <td>0</td>\n",
       "    </tr>\n",
       "    <tr>\n",
       "      <td>freq</td>\n",
       "      <td>1</td>\n",
       "      <td>3</td>\n",
       "      <td>3</td>\n",
       "      <td>3</td>\n",
       "      <td>3</td>\n",
       "      <td>5</td>\n",
       "      <td>4</td>\n",
       "      <td>3</td>\n",
       "      <td>3</td>\n",
       "      <td>3</td>\n",
       "      <td>3</td>\n",
       "      <td>3</td>\n",
       "    </tr>\n",
       "  </tbody>\n",
       "</table>\n",
       "</div>"
      ],
      "text/plain": [
       "                                   Unnamed: 0  2018-01-01 00:00:00  Feb  \\\n",
       "count                                      54                    4    4   \n",
       "unique                                     54                    2    2   \n",
       "top     Mzn Whipped Soap Scrub Pink Musk 250G                    0    0   \n",
       "freq                                        1                    3    3   \n",
       "\n",
       "        March   April   May  June and July  August   September   OCT  Nov   \\\n",
       "count        4      13   24             30        4           4    4     4   \n",
       "unique       2      11   20             24        2           2    2     2   \n",
       "top          0       1    1             11        0           0    0     0   \n",
       "freq         3       3    5              4        3           3    3     3   \n",
       "\n",
       "        DECEMBER  \n",
       "count          4  \n",
       "unique         2  \n",
       "top            0  \n",
       "freq           3  "
      ]
     },
     "execution_count": 30,
     "metadata": {},
     "output_type": "execute_result"
    }
   ],
   "source": [
    "data.describe(include = ['O'])"
   ]
  },
  {
   "cell_type": "markdown",
   "metadata": {},
   "source": [
    "Conclusion:\n",
    "\n",
    "Here we can see that \n",
    "### Whipped Soap Scrub Pink Musk 250G \n",
    "has the best saller among 2019 in company 8.\n",
    "Looking to Total Number of items \n",
    "\n",
    "### May is the top monthe among all the monthes with 563 items. Total sales is 16,662 if we comapre it with june and july."
   ]
  },
  {
   "cell_type": "markdown",
   "metadata": {},
   "source": [
    "Recommendations"
   ]
  }
 ],
 "metadata": {
  "kernelspec": {
   "display_name": "Python 3",
   "language": "python",
   "name": "python3"
  },
  "language_info": {
   "codemirror_mode": {
    "name": "ipython",
    "version": 3
   },
   "file_extension": ".py",
   "mimetype": "text/x-python",
   "name": "python",
   "nbconvert_exporter": "python",
   "pygments_lexer": "ipython3",
   "version": "3.7.4"
  }
 },
 "nbformat": 4,
 "nbformat_minor": 2
}
